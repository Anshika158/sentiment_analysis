{
 "cells": [
  {
   "cell_type": "code",
   "execution_count": 5,
   "id": "c949d937",
   "metadata": {},
   "outputs": [],
   "source": [
    "from sklearn.linear_model import LogisticRegression\n",
    "from sklearn.metrics import accuracy_score, classification_report, confusion_matrix\n",
    "import matplotlib.pyplot as plt\n",
    "import seaborn as sns\n",
    "import pandas as pd"
   ]
  },
  {
   "cell_type": "code",
   "execution_count": 7,
   "id": "685e86d3",
   "metadata": {},
   "outputs": [],
   "source": [
    "model = LogisticRegression(max_iter=2000)\n"
   ]
  },
  {
   "cell_type": "code",
   "execution_count": 9,
   "id": "ddad5c89",
   "metadata": {},
   "outputs": [
    {
     "ename": "NameError",
     "evalue": "name 'test_data' is not defined",
     "output_type": "error",
     "traceback": [
      "\u001b[31m---------------------------------------------------------------------------\u001b[39m",
      "\u001b[31mNameError\u001b[39m                                 Traceback (most recent call last)",
      "\u001b[36mCell\u001b[39m\u001b[36m \u001b[39m\u001b[32mIn[9]\u001b[39m\u001b[32m, line 2\u001b[39m\n\u001b[32m      1\u001b[39m \u001b[38;5;66;03m# Doing same as we did for the training data\u001b[39;00m\n\u001b[32m----> \u001b[39m\u001b[32m2\u001b[39m test_df = pd.read_csv(\u001b[43mtest_data\u001b[49m,header=\u001b[38;5;28;01mNone\u001b[39;00m,names=[\u001b[33m'\u001b[39m\u001b[33mRating\u001b[39m\u001b[33m'\u001b[39m,\u001b[33m'\u001b[39m\u001b[33mTitle\u001b[39m\u001b[33m'\u001b[39m,\u001b[33m'\u001b[39m\u001b[33mReview\u001b[39m\u001b[33m'\u001b[39m])\n\u001b[32m      3\u001b[39m display(test_df)\n\u001b[32m      4\u001b[39m test_df = test_df[\u001b[32m0\u001b[39m:\u001b[32m100000\u001b[39m]\n",
      "\u001b[31mNameError\u001b[39m: name 'test_data' is not defined"
     ]
    }
   ],
   "source": [
    "# Doing same as we did for the training data\n",
    "test_df = pd.read_csv(test_data,header=None,names=['Rating','Title','Review'])\n",
    "display(test_df)\n",
    "test_df = test_df[0:100000]\n",
    "display(test_df)"
   ]
  },
  {
   "cell_type": "code",
   "execution_count": null,
   "id": "4b46a0eb",
   "metadata": {},
   "outputs": [],
   "source": [
    "model.fit(ctmTr, y_train)\n"
   ]
  },
  {
   "cell_type": "code",
   "execution_count": null,
   "id": "1f21ac46",
   "metadata": {},
   "outputs": [],
   "source": [
    "test_pred_lr = model.predict(test_dtm)\n"
   ]
  },
  {
   "cell_type": "code",
   "execution_count": null,
   "id": "e507273b",
   "metadata": {},
   "outputs": [],
   "source": [
    "print(\"Accuracy:\", accuracy_score(test_y, test_pred_lr))\n"
   ]
  },
  {
   "cell_type": "code",
   "execution_count": null,
   "id": "415add4b",
   "metadata": {},
   "outputs": [],
   "source": [
    "print(\"\\nClassification Report:\\n\", classification_report(test_y, test_pred_lr))\n"
   ]
  },
  {
   "cell_type": "code",
   "execution_count": null,
   "id": "2441b74b",
   "metadata": {
    "scrolled": true
   },
   "outputs": [],
   "source": [
    "cm_lr = confusion_matrix(test_y, test_pred_lr)\n",
    "plt.figure(figsize=(6, 5))\n",
    "sns.heatmap(cm_lr, annot=True, fmt=\"d\", cmap=\"coolwarm\", \n",
    "            xticklabels=[\"Negative (0)\", \"Positive (1)\"], \n",
    "            yticklabels=[\"Negative (0)\", \"Positive (1)\"])\n",
    "\n",
    "plt.xlabel(\"Predicted\")\n",
    "plt.ylabel(\"Actual\")\n",
    "plt.title(\"Confusion Matrix - Logistic Regression\")\n",
    "plt.show()\n"
   ]
  },
  {
   "cell_type": "code",
   "execution_count": null,
   "id": "1a4d439e",
   "metadata": {},
   "outputs": [],
   "source": [
    "new_predictions_lr = model.predict(new_vectors)\n",
    "\n",
    "for review, sentiment in zip(new_reviews, new_predictions_lr):\n",
    "    print(f\"Review: {review} -> Sentiment: {'Positive' if sentiment == 1 else 'Negative'}\")\n"
   ]
  },
  {
   "cell_type": "code",
   "execution_count": null,
   "id": "3ddd44a9",
   "metadata": {},
   "outputs": [],
   "source": [
    "products = products.dropna()\n",
    "len(products)"
   ]
  },
  {
   "cell_type": "code",
   "execution_count": null,
   "id": "4a020f73",
   "metadata": {},
   "outputs": [],
   "source": [
    "# Removing the ratings which has value '3' as it may be good or bad.\n",
    "products = products[products['Rating'] != 3]\n",
    "test_df = test_df[test_df['Rating']!=3]"
   ]
  },
  {
   "cell_type": "code",
   "execution_count": null,
   "id": "d2db2fd1",
   "metadata": {},
   "outputs": [],
   "source": [
    "# Adding the sentiment to training data.\n",
    "def sentiment(n):\n",
    "    return 1 if n >= 4 else 0\n",
    "products['Sentiment'] = products['Rating'].apply(sentiment)\n",
    "products.head()"
   ]
  },
  {
   "cell_type": "code",
   "execution_count": null,
   "id": "7095adfc",
   "metadata": {},
   "outputs": [],
   "source": [
    "# Applying the sentiment to test data.\n",
    "test_df['Sentiment'] = test_df['Rating'].apply(sentiment)\n",
    "test_df.head()"
   ]
  },
  {
   "cell_type": "code",
   "execution_count": null,
   "id": "b00c3941",
   "metadata": {},
   "outputs": [],
   "source": [
    "# Choosing training and testing data\n",
    "X_train = products['Review']\n",
    "y_train = products['Sentiment']\n",
    "test_x = test_df['Review']"
   ]
  },
  {
   "cell_type": "code",
   "execution_count": null,
   "id": "12fc128a",
   "metadata": {},
   "outputs": [],
   "source": [
    "# Scaling the data by removing the stop words\n",
    "from sklearn.feature_extraction.text import CountVectorizer\n",
    "from sklearn.feature_extraction.text import ENGLISH_STOP_WORDS\n",
    "\n",
    "# Convert frozenset to list to avoid InvalidParameterError\n",
    "cv = CountVectorizer(stop_words=list(ENGLISH_STOP_WORDS))\n",
    "\n",
    "'''This method \"fits\" the vectorizer to the training data by learning the vocabulary (i.e., unique words) in the training data and \n",
    "their corresponding frequency counts, and then \"transforms\" the text data into a document-term matrix'''\n",
    "ctmTr = cv.fit_transform(X_train)\n",
    "test_dtm = cv.transform(test_x)"
   ]
  },
  {
   "cell_type": "code",
   "execution_count": null,
   "id": "863ce6f1",
   "metadata": {},
   "outputs": [],
   "source": [
    "#Linear Regression model\n",
    "from sklearn.linear_model import LogisticRegression\n",
    "from sklearn.metrics import accuracy_score\n",
    "import matplotlib.pyplot as plt\n",
    "from sklearn.metrics import classification_report,accuracy_score,confusion_matrix\n",
    "\n",
    "model = LogisticRegression(max_iter=2000)\n",
    "model.fit(ctmTr, y_train)"
   ]
  },
  {
   "cell_type": "code",
   "execution_count": null,
   "id": "48b4e84f",
   "metadata": {},
   "outputs": [],
   "source": [
    "test_pred_lr = model.predict(test_dtm)\n",
    "test_pred_lr"
   ]
  },
  {
   "cell_type": "code",
   "execution_count": null,
   "id": "e1c4b1c1",
   "metadata": {},
   "outputs": [],
   "source": [
    "test_y = test_df['Sentiment']\n",
    "accuracy_score(test_y,test_pred_lr)"
   ]
  },
  {
   "cell_type": "code",
   "execution_count": null,
   "id": "c941107f-c967-4196-9a54-e90e61ee3c47",
   "metadata": {},
   "outputs": [],
   "source": [
    "print(classification_report(test_y, test_pred_lr))"
   ]
  },
  {
   "cell_type": "code",
   "execution_count": null,
   "id": "eecf1189",
   "metadata": {},
   "outputs": [],
   "source": [
    "cm_lr = confusion_matrix(test_y, test_pred_lr)\n",
    "plt.figure(figsize=(4,3))\n",
    "sns.heatmap(cm_lr, annot=True, fmt=\"d\", cmap=\"coolwarm\", \n",
    "            xticklabels=[\"Negative (0)\", \"Positive (1)\"], \n",
    "            yticklabels=[\"Negative (0)\", \"Positive (1)\"])\n",
    "\n",
    "plt.xlabel(\"Predicted\")\n",
    "plt.ylabel(\"Actual\")\n",
    "plt.title(\"Confusion Matrix - Logistic Regression\")\n",
    "plt.show()"
   ]
  },
  {
   "cell_type": "code",
   "execution_count": null,
   "id": "30ae17b7-b4f7-4e2e-a404-5ddd7af0c66d",
   "metadata": {},
   "outputs": [],
   "source": [
    "from sklearn.svm import SVC\n",
    "from sklearn.metrics import accuracy_score, classification_report, confusion_matrix\n",
    "import matplotlib.pyplot as plt\n",
    "import seaborn as sns"
   ]
  },
  {
   "cell_type": "code",
   "execution_count": null,
   "id": "92047dd8-594a-47c3-812c-0c7b9170f24a",
   "metadata": {},
   "outputs": [],
   "source": [
    "# Initializing and training the SVM model\n",
    "svm_model = SVC(kernel='linear', C=1.0, max_iter=2000)  # Linear kernel, regularization = 1.0\n",
    "svm_model.fit(ctmTr, y_train)"
   ]
  },
  {
   "cell_type": "code",
   "execution_count": null,
   "id": "86071415-4ee1-4a59-9015-4a078f557d91",
   "metadata": {},
   "outputs": [],
   "source": [
    "# Evaluating performance\n",
    "print(\"Accuracy:\", accuracy_score(test_y, test_pred_svm))\n",
    "print(\"\\nClassification Report:\\n\", classification_report(test_y, test_pred_svm))"
   ]
  },
  {
   "cell_type": "code",
   "execution_count": null,
   "id": "5e775590-a33d-4fe3-8507-c31a82c68c69",
   "metadata": {},
   "outputs": [],
   "source": [
    "# Plotting the confusion matrix\n",
    "cm_svm = confusion_matrix(test_y, test_pred_svm)\n",
    "plt.figure(figsize=(6, 5))  # Increased size for clarity\n",
    "sns.heatmap(cm_svm, annot=True, fmt=\"d\", cmap=\"coolwarm\", \n",
    "            xticklabels=[\"Negative (0)\", \"Positive (1)\"], \n",
    "            yticklabels=[\"Negative (0)\", \"Positive (1)\"])\n",
    "\n",
    "plt.xlabel(\"Predicted\")\n",
    "plt.ylabel(\"Actual\")\n",
    "plt.title(\"Confusion Matrix - Support Vector Machine\")\n",
    "plt.show()"
   ]
  },
  {
   "cell_type": "code",
   "execution_count": null,
   "id": "6f2934e1-52c6-4582-82ca-5fc31dbaf967",
   "metadata": {},
   "outputs": [],
   "source": [
    "# Predicting on new data\n",
    "new_predictions_svm = svm_model.predict(new_vectors)\n",
    "for review, sentiment in zip(new_reviews, new_predictions_svm):\n",
    "    print(f\"Review: {review} -> Sentiment: {'Positive' if sentiment == 1 else 'Negative'}\")"
   ]
  },
  {
   "cell_type": "code",
   "execution_count": null,
   "id": "be568822-e366-4abf-bdb3-9fc5e54f10bd",
   "metadata": {},
   "outputs": [],
   "source": [
    "new_reviews = [\"The product is amazing!\", \"Not bad\"]\n",
    "new_vectors = cv.transform(new_reviews)"
   ]
  },
  {
   "cell_type": "code",
   "execution_count": null,
   "id": "90d033ef-9b74-42fb-a86b-e76b7cd40c88",
   "metadata": {},
   "outputs": [],
   "source": [
    "new_predictions_lr = model.predict(new_vectors)\n",
    "\n",
    "for review, sentiment in zip(new_reviews, new_predictions_lr):\n",
    "    print(f\"Review: {review} -> Sentiment: {'Positive' if sentiment == 1 else 'Negative'}\")"
   ]
  },
  {
   "cell_type": "code",
   "execution_count": null,
   "id": "ebb7da85-c478-4a13-9e5a-6f23131b2467",
   "metadata": {},
   "outputs": [],
   "source": [
    "new_predictions_svm = svm_model.predict(new_vectors)\n",
    "\n",
    "for review, sentiment in zip(new_reviews, new_predictions_svm):\n",
    "    print(f\"Review: {review} -> Sentiment: {'Positive' if sentiment == 1 else 'Negative'}\")"
   ]
  },
  {
   "cell_type": "code",
   "execution_count": null,
   "id": "c3c16791-bc74-4099-aead-273585d28e56",
   "metadata": {},
   "outputs": [],
   "source": []
  }
 ],
 "metadata": {
  "kernelspec": {
   "display_name": "Python 3 (ipykernel)",
   "language": "python",
   "name": "python3"
  },
  "language_info": {
   "codemirror_mode": {
    "name": "ipython",
    "version": 3
   },
   "file_extension": ".py",
   "mimetype": "text/x-python",
   "name": "python",
   "nbconvert_exporter": "python",
   "pygments_lexer": "ipython3",
   "version": "3.12.7"
  }
 },
 "nbformat": 4,
 "nbformat_minor": 5
}
